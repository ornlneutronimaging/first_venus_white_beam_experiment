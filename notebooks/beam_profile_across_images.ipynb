{
 "cells": [
  {
   "cell_type": "code",
   "execution_count": 1,
   "id": "dfb5d086",
   "metadata": {},
   "outputs": [],
   "source": [
    "import os"
   ]
  },
  {
   "cell_type": "markdown",
   "id": "5966884f",
   "metadata": {},
   "source": [
    "Define the **base folder (base_folder)** from where all the data set will be located. \n",
    "\n",
    "For example, if you are working on the analysis machine:\n",
    "\n",
    "*base_folder = \"/SNS/VENUS/IPTS-31716/shared/NC_images/2023-06-12\"*\n"
   ]
  },
  {
   "cell_type": "code",
   "execution_count": 3,
   "id": "dc885a55",
   "metadata": {},
   "outputs": [],
   "source": [
    "base_folder = \"/Users/j35/SNS/VENUS/IPTS-31716-first_experiment_ever/\"\n",
    "assert os.path.exists(base_folder)  # making sure the base folder exists"
   ]
  },
  {
   "cell_type": "code",
   "execution_count": null,
   "id": "23ad054b",
   "metadata": {},
   "outputs": [],
   "source": []
  }
 ],
 "metadata": {
  "kernelspec": {
   "display_name": "Python 3 (ipykernel)",
   "language": "python",
   "name": "python3"
  },
  "language_info": {
   "codemirror_mode": {
    "name": "ipython",
    "version": 3
   },
   "file_extension": ".py",
   "mimetype": "text/x-python",
   "name": "python",
   "nbconvert_exporter": "python",
   "pygments_lexer": "ipython3",
   "version": "3.10.10"
  }
 },
 "nbformat": 4,
 "nbformat_minor": 5
}
