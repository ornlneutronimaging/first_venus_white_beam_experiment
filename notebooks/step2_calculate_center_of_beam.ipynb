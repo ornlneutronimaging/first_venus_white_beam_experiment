{
 "cells": [
  {
   "cell_type": "markdown",
   "id": "7d64cc96",
   "metadata": {},
   "source": [
    "This notebooks takes the profile files produced by the [profile](https://neutronimaging.ornl.gov/tutorials/imaging-notebooks/profile/linear-profile/) notebook.\n",
    "\n",
    "<img src='static/screenshot_of_profile_file.png' />\n"
   ]
  },
  {
   "cell_type": "code",
   "execution_count": 20,
   "id": "e9f83605",
   "metadata": {},
   "outputs": [],
   "source": [
    "import os\n",
    "import pandas as pd\n",
    "import numpy as np"
   ]
  },
  {
   "cell_type": "markdown",
   "id": "de7e09c4",
   "metadata": {},
   "source": [
    "Define the **base folder (base_folder)** from where all the data set will be located. \n",
    "\n",
    "For example, if you are working on the analysis machine:\n",
    "\n",
    "*base_folder = \"/SNS/VENUS/IPTS-31716/shared/NC_images/2023-06-12\"*\n"
   ]
  },
  {
   "cell_type": "code",
   "execution_count": 4,
   "id": "e5fe4cfa",
   "metadata": {},
   "outputs": [],
   "source": [
    "base_folder = \"/Users/j35/SNS/VENUS/IPTS-31716-first_experiment_ever/profiles/\"\n",
    "assert os.path.exists(base_folder)  # making sure the base folder exists"
   ]
  },
  {
   "cell_type": "markdown",
   "id": "22b7fcf6",
   "metadata": {},
   "source": [
    "## working with various apertures "
   ]
  },
  {
   "cell_type": "code",
   "execution_count": 7,
   "id": "ca56bbff",
   "metadata": {},
   "outputs": [],
   "source": [
    "profile_file = os.path.join(base_folder, 'IPTS-31716-first_experiment_ever_profile_3.txt')\n",
    "assert os.path.join(profile_file)"
   ]
  },
  {
   "cell_type": "code",
   "execution_count": 8,
   "id": "865d7c3b",
   "metadata": {},
   "outputs": [],
   "source": [
    "pd_object = pd.read_csv(profile_file, skiprows=13)"
   ]
  },
  {
   "cell_type": "code",
   "execution_count": 9,
   "id": "d1b0f71c",
   "metadata": {},
   "outputs": [
    {
     "data": {
      "text/html": [
       "<div>\n",
       "<style scoped>\n",
       "    .dataframe tbody tr th:only-of-type {\n",
       "        vertical-align: middle;\n",
       "    }\n",
       "\n",
       "    .dataframe tbody tr th {\n",
       "        vertical-align: top;\n",
       "    }\n",
       "\n",
       "    .dataframe thead th {\n",
       "        text-align: right;\n",
       "    }\n",
       "</style>\n",
       "<table border=\"1\" class=\"dataframe\">\n",
       "  <thead>\n",
       "    <tr style=\"text-align: right;\">\n",
       "      <th></th>\n",
       "      <th>##y_axis</th>\n",
       "      <th># col.1</th>\n",
       "      <th># col.2</th>\n",
       "      <th># col.3</th>\n",
       "      <th># col.4</th>\n",
       "      <th># col.5</th>\n",
       "      <th># col.6</th>\n",
       "    </tr>\n",
       "  </thead>\n",
       "  <tbody>\n",
       "    <tr>\n",
       "      <th>0</th>\n",
       "      <td>822</td>\n",
       "      <td>6460.0</td>\n",
       "      <td>1675.5</td>\n",
       "      <td>871.0</td>\n",
       "      <td>558.5</td>\n",
       "      <td>14756.5</td>\n",
       "      <td>3390.0</td>\n",
       "    </tr>\n",
       "    <tr>\n",
       "      <th>1</th>\n",
       "      <td>823</td>\n",
       "      <td>6674.5</td>\n",
       "      <td>1691.0</td>\n",
       "      <td>1056.5</td>\n",
       "      <td>585.5</td>\n",
       "      <td>14463.0</td>\n",
       "      <td>3175.0</td>\n",
       "    </tr>\n",
       "    <tr>\n",
       "      <th>2</th>\n",
       "      <td>824</td>\n",
       "      <td>6839.5</td>\n",
       "      <td>1536.5</td>\n",
       "      <td>870.5</td>\n",
       "      <td>579.5</td>\n",
       "      <td>14923.5</td>\n",
       "      <td>3197.5</td>\n",
       "    </tr>\n",
       "    <tr>\n",
       "      <th>3</th>\n",
       "      <td>825</td>\n",
       "      <td>6511.0</td>\n",
       "      <td>1542.5</td>\n",
       "      <td>877.5</td>\n",
       "      <td>504.5</td>\n",
       "      <td>14020.0</td>\n",
       "      <td>3444.0</td>\n",
       "    </tr>\n",
       "    <tr>\n",
       "      <th>4</th>\n",
       "      <td>826</td>\n",
       "      <td>6678.0</td>\n",
       "      <td>1615.0</td>\n",
       "      <td>822.0</td>\n",
       "      <td>605.5</td>\n",
       "      <td>15298.0</td>\n",
       "      <td>3476.5</td>\n",
       "    </tr>\n",
       "    <tr>\n",
       "      <th>...</th>\n",
       "      <td>...</td>\n",
       "      <td>...</td>\n",
       "      <td>...</td>\n",
       "      <td>...</td>\n",
       "      <td>...</td>\n",
       "      <td>...</td>\n",
       "      <td>...</td>\n",
       "    </tr>\n",
       "    <tr>\n",
       "      <th>4839</th>\n",
       "      <td>5661</td>\n",
       "      <td>5286.0</td>\n",
       "      <td>1130.5</td>\n",
       "      <td>617.5</td>\n",
       "      <td>347.0</td>\n",
       "      <td>11286.0</td>\n",
       "      <td>2705.0</td>\n",
       "    </tr>\n",
       "    <tr>\n",
       "      <th>4840</th>\n",
       "      <td>5662</td>\n",
       "      <td>5313.0</td>\n",
       "      <td>1056.0</td>\n",
       "      <td>726.5</td>\n",
       "      <td>321.5</td>\n",
       "      <td>11615.5</td>\n",
       "      <td>2654.5</td>\n",
       "    </tr>\n",
       "    <tr>\n",
       "      <th>4841</th>\n",
       "      <td>5663</td>\n",
       "      <td>5190.5</td>\n",
       "      <td>1200.5</td>\n",
       "      <td>564.5</td>\n",
       "      <td>397.0</td>\n",
       "      <td>11510.5</td>\n",
       "      <td>2674.5</td>\n",
       "    </tr>\n",
       "    <tr>\n",
       "      <th>4842</th>\n",
       "      <td>5664</td>\n",
       "      <td>5100.5</td>\n",
       "      <td>1110.0</td>\n",
       "      <td>632.0</td>\n",
       "      <td>425.5</td>\n",
       "      <td>11725.0</td>\n",
       "      <td>2510.5</td>\n",
       "    </tr>\n",
       "    <tr>\n",
       "      <th>4843</th>\n",
       "      <td>5665</td>\n",
       "      <td>5322.5</td>\n",
       "      <td>1136.0</td>\n",
       "      <td>573.0</td>\n",
       "      <td>294.5</td>\n",
       "      <td>12400.5</td>\n",
       "      <td>2531.0</td>\n",
       "    </tr>\n",
       "  </tbody>\n",
       "</table>\n",
       "<p>4844 rows × 7 columns</p>\n",
       "</div>"
      ],
      "text/plain": [
       "      ##y_axis  # col.1  # col.2  # col.3  # col.4  # col.5  # col.6\n",
       "0          822   6460.0   1675.5    871.0    558.5  14756.5   3390.0\n",
       "1          823   6674.5   1691.0   1056.5    585.5  14463.0   3175.0\n",
       "2          824   6839.5   1536.5    870.5    579.5  14923.5   3197.5\n",
       "3          825   6511.0   1542.5    877.5    504.5  14020.0   3444.0\n",
       "4          826   6678.0   1615.0    822.0    605.5  15298.0   3476.5\n",
       "...        ...      ...      ...      ...      ...      ...      ...\n",
       "4839      5661   5286.0   1130.5    617.5    347.0  11286.0   2705.0\n",
       "4840      5662   5313.0   1056.0    726.5    321.5  11615.5   2654.5\n",
       "4841      5663   5190.5   1200.5    564.5    397.0  11510.5   2674.5\n",
       "4842      5664   5100.5   1110.0    632.0    425.5  11725.0   2510.5\n",
       "4843      5665   5322.5   1136.0    573.0    294.5  12400.5   2531.0\n",
       "\n",
       "[4844 rows x 7 columns]"
      ]
     },
     "execution_count": 9,
     "metadata": {},
     "output_type": "execute_result"
    }
   ],
   "source": [
    "pd_object"
   ]
  },
  {
   "cell_type": "markdown",
   "id": "0263d6b2",
   "metadata": {},
   "source": [
    "## retrieve information about names of columns"
   ]
  },
  {
   "cell_type": "code",
   "execution_count": 31,
   "id": "c1b44490",
   "metadata": {},
   "outputs": [
    {
     "name": "stdout",
     "output_type": "stream",
     "text": [
      "                            #List of files (6 files)\n",
      "0  # * /Users/j35/SNS/VENUS/IPTS-31716-first_expe...\n",
      "1  # * /Users/j35/SNS/VENUS/IPTS-31716-first_expe...\n",
      "2  # * /Users/j35/SNS/VENUS/IPTS-31716-first_expe...\n",
      "3  # * /Users/j35/SNS/VENUS/IPTS-31716-first_expe...\n",
      "4  # * /Users/j35/SNS/VENUS/IPTS-31716-first_expe...\n",
      "5  # * /Users/j35/SNS/VENUS/IPTS-31716-first_expe...\n"
     ]
    }
   ],
   "source": [
    "print(pd_header)"
   ]
  },
  {
   "cell_type": "code",
   "execution_count": 33,
   "id": "57d6d6ff",
   "metadata": {},
   "outputs": [],
   "source": [
    "pd_header = pd.read_csv(profile_file, skiprows=5, nrows=6)\n",
    "list_columns = pd_header.columns.values.tolist()"
   ]
  },
  {
   "cell_type": "code",
   "execution_count": 49,
   "id": "9e736d5f",
   "metadata": {},
   "outputs": [],
   "source": [
    "list_files = list(pd_header.loc[:, list_columns[0]])\n",
    "\n",
    "column_file_name_dict = {}\n",
    "for _index_column, _line in enumerate(list_files):\n",
    "    _line_no_space = _line.replace(\" \", \"\")\n",
    "    file_name, col_name = _line_no_space.split(\"->\")\n",
    "    various_part_of_file_name = file_name.split(\"/\")\n",
    "    column_file_name_dict[_index_column] = various_part_of_file_name[-1]\n",
    "    "
   ]
  },
  {
   "cell_type": "code",
   "execution_count": 50,
   "id": "5e30090a",
   "metadata": {},
   "outputs": [
    {
     "data": {
      "text/plain": [
       "{0: '0deg_nbr2_30s_frames_OB.tif',\n",
       " 1: '120deg_nbr2_30s_frames_OB.tif',\n",
       " 2: '180deg_nbr2_30s_frames_OB.tif',\n",
       " 3: '240deg_nbr2_30s_frames_OB.tif',\n",
       " 4: '300deg_nbr1_30s_frames_OB.tif',\n",
       " 5: '60deg_nbr2_30s_frames_OB_median.tif'}"
      ]
     },
     "execution_count": 50,
     "metadata": {},
     "output_type": "execute_result"
    }
   ],
   "source": [
    "column_file_name_dict"
   ]
  },
  {
   "cell_type": "markdown",
   "id": "9e9fe34f",
   "metadata": {},
   "source": [
    "## group the profiles data and names of the files "
   ]
  },
  {
   "cell_type": "code",
   "execution_count": 66,
   "id": "45ef600c",
   "metadata": {},
   "outputs": [],
   "source": [
    "list_columns_data = pd_object.columns.values.tolist()\n",
    "profile_dict = {}\n",
    "for _index, _name_column in enumerate(list_columns_data[1:]):\n",
    "    _profile = np.asarray(pd_object.loc[:, _name_column])\n",
    "    profile_dict[_index] = {'profile': _profile,\n",
    "                           'file name': column_file_name_dict[_index]}\n"
   ]
  },
  {
   "cell_type": "code",
   "execution_count": null,
   "id": "4381a319",
   "metadata": {},
   "outputs": [],
   "source": []
  }
 ],
 "metadata": {
  "kernelspec": {
   "display_name": "Python 3 (ipykernel)",
   "language": "python",
   "name": "python3"
  },
  "language_info": {
   "codemirror_mode": {
    "name": "ipython",
    "version": 3
   },
   "file_extension": ".py",
   "mimetype": "text/x-python",
   "name": "python",
   "nbconvert_exporter": "python",
   "pygments_lexer": "ipython3",
   "version": "3.8.13"
  }
 },
 "nbformat": 4,
 "nbformat_minor": 5
}
